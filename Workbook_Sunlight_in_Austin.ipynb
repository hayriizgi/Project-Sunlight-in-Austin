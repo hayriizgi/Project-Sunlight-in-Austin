{
 "cells": [
  {
   "cell_type": "code",
   "execution_count": 1,
   "metadata": {},
   "outputs": [],
   "source": [
    "import pandas as pd\n",
    "import numpy as np\n",
    "import matplotlib.pyplot as plt"
   ]
  },
  {
   "cell_type": "code",
   "execution_count": 2,
   "metadata": {},
   "outputs": [
    {
     "data": {
      "text/html": [
       "<div>\n",
       "<style scoped>\n",
       "    .dataframe tbody tr th:only-of-type {\n",
       "        vertical-align: middle;\n",
       "    }\n",
       "\n",
       "    .dataframe tbody tr th {\n",
       "        vertical-align: top;\n",
       "    }\n",
       "\n",
       "    .dataframe thead th {\n",
       "        text-align: right;\n",
       "    }\n",
       "</style>\n",
       "<table border=\"1\" class=\"dataframe\">\n",
       "  <thead>\n",
       "    <tr style=\"text-align: right;\">\n",
       "      <th></th>\n",
       "      <th>0</th>\n",
       "      <th>1</th>\n",
       "      <th>2</th>\n",
       "      <th>3</th>\n",
       "      <th>4</th>\n",
       "      <th>5</th>\n",
       "      <th>6</th>\n",
       "      <th>7</th>\n",
       "      <th>8</th>\n",
       "      <th>9</th>\n",
       "      <th>...</th>\n",
       "      <th>34</th>\n",
       "      <th>35</th>\n",
       "      <th>36</th>\n",
       "      <th>37</th>\n",
       "      <th>38</th>\n",
       "      <th>39</th>\n",
       "      <th>40</th>\n",
       "      <th>41</th>\n",
       "      <th>42</th>\n",
       "      <th>43</th>\n",
       "    </tr>\n",
       "  </thead>\n",
       "  <tbody>\n",
       "    <tr>\n",
       "      <th>0</th>\n",
       "      <td>13904</td>\n",
       "      <td>20110101</td>\n",
       "      <td>53</td>\n",
       "      <td>12</td>\n",
       "      <td>OVC045</td>\n",
       "      <td></td>\n",
       "      <td>10.00</td>\n",
       "      <td></td>\n",
       "      <td></td>\n",
       "      <td></td>\n",
       "      <td>...</td>\n",
       "      <td></td>\n",
       "      <td></td>\n",
       "      <td>29.95</td>\n",
       "      <td></td>\n",
       "      <td>AA</td>\n",
       "      <td></td>\n",
       "      <td></td>\n",
       "      <td></td>\n",
       "      <td>29.95</td>\n",
       "      <td></td>\n",
       "    </tr>\n",
       "    <tr>\n",
       "      <th>1</th>\n",
       "      <td>13904</td>\n",
       "      <td>20110101</td>\n",
       "      <td>153</td>\n",
       "      <td>12</td>\n",
       "      <td>OVC049</td>\n",
       "      <td></td>\n",
       "      <td>10.00</td>\n",
       "      <td></td>\n",
       "      <td></td>\n",
       "      <td></td>\n",
       "      <td>...</td>\n",
       "      <td></td>\n",
       "      <td></td>\n",
       "      <td>30.01</td>\n",
       "      <td></td>\n",
       "      <td>AA</td>\n",
       "      <td></td>\n",
       "      <td></td>\n",
       "      <td></td>\n",
       "      <td>30.02</td>\n",
       "      <td></td>\n",
       "    </tr>\n",
       "    <tr>\n",
       "      <th>2</th>\n",
       "      <td>13904</td>\n",
       "      <td>20110101</td>\n",
       "      <td>253</td>\n",
       "      <td>12</td>\n",
       "      <td>OVC060</td>\n",
       "      <td></td>\n",
       "      <td>10.00</td>\n",
       "      <td></td>\n",
       "      <td></td>\n",
       "      <td></td>\n",
       "      <td>...</td>\n",
       "      <td>030</td>\n",
       "      <td></td>\n",
       "      <td>30.01</td>\n",
       "      <td></td>\n",
       "      <td>AA</td>\n",
       "      <td></td>\n",
       "      <td></td>\n",
       "      <td></td>\n",
       "      <td>30.02</td>\n",
       "      <td></td>\n",
       "    </tr>\n",
       "    <tr>\n",
       "      <th>3</th>\n",
       "      <td>13904</td>\n",
       "      <td>20110101</td>\n",
       "      <td>353</td>\n",
       "      <td>12</td>\n",
       "      <td>OVC065</td>\n",
       "      <td></td>\n",
       "      <td>10.00</td>\n",
       "      <td></td>\n",
       "      <td></td>\n",
       "      <td></td>\n",
       "      <td>...</td>\n",
       "      <td></td>\n",
       "      <td></td>\n",
       "      <td>30.03</td>\n",
       "      <td></td>\n",
       "      <td>AA</td>\n",
       "      <td></td>\n",
       "      <td></td>\n",
       "      <td></td>\n",
       "      <td>30.04</td>\n",
       "      <td></td>\n",
       "    </tr>\n",
       "    <tr>\n",
       "      <th>4</th>\n",
       "      <td>13904</td>\n",
       "      <td>20110101</td>\n",
       "      <td>453</td>\n",
       "      <td>12</td>\n",
       "      <td>BKN070</td>\n",
       "      <td></td>\n",
       "      <td>10.00</td>\n",
       "      <td></td>\n",
       "      <td></td>\n",
       "      <td></td>\n",
       "      <td>...</td>\n",
       "      <td></td>\n",
       "      <td></td>\n",
       "      <td>30.04</td>\n",
       "      <td></td>\n",
       "      <td>AA</td>\n",
       "      <td></td>\n",
       "      <td></td>\n",
       "      <td></td>\n",
       "      <td>30.04</td>\n",
       "      <td></td>\n",
       "    </tr>\n",
       "  </tbody>\n",
       "</table>\n",
       "<p>5 rows × 44 columns</p>\n",
       "</div>"
      ],
      "text/plain": [
       "      0         1    2   3       4  5      6  7  8  9   ...   34 35     36 37  \\\n",
       "0  13904  20110101   53  12  OVC045     10.00           ...          29.95      \n",
       "1  13904  20110101  153  12  OVC049     10.00           ...          30.01      \n",
       "2  13904  20110101  253  12  OVC060     10.00           ...  030     30.01      \n",
       "3  13904  20110101  353  12  OVC065     10.00           ...          30.03      \n",
       "4  13904  20110101  453  12  BKN070     10.00           ...          30.04      \n",
       "\n",
       "   38 39 40 41     42 43  \n",
       "0  AA           29.95     \n",
       "1  AA           30.02     \n",
       "2  AA           30.02     \n",
       "3  AA           30.04     \n",
       "4  AA           30.04     \n",
       "\n",
       "[5 rows x 44 columns]"
      ]
     },
     "execution_count": 2,
     "metadata": {},
     "output_type": "execute_result"
    }
   ],
   "source": [
    "# location of data file locally or online\n",
    "# r is a raw string literal (string modifier) which enables you to ignore the escape characters - string gets interpreted literally\n",
    "# r'My\\Path\\...' evaluates to 'My\\\\Path\\\\...'\n",
    "data_file=r'C:\\Users\\sefi\\Documents\\My Python Repository\\DataCamp\\h) pandas Foundations\\datasets\\NOAA_QCLCD_2011_hourly_13904.csv'\n",
    "\n",
    "# Read in the data file: df\n",
    "df = pd.read_csv(data_file)\n",
    "\n",
    "# Investigate first 5 rows of the dataset\n",
    "df.head()\n",
    "\n",
    "# As we can see the data file does not have a header, so we should indicate that in the read_csv call as an argument\n",
    "df = pd.read_csv(data_file, header = None)\n",
    "df.head()\n"
   ]
  },
  {
   "cell_type": "code",
   "execution_count": 3,
   "metadata": {},
   "outputs": [
    {
     "name": "stdout",
     "output_type": "stream",
     "text": [
      "<class 'pandas.core.frame.DataFrame'>\n",
      "RangeIndex: 10337 entries, 0 to 10336\n",
      "Data columns (total 44 columns):\n",
      " #   Column  Non-Null Count  Dtype \n",
      "---  ------  --------------  ----- \n",
      " 0   0       10337 non-null  int64 \n",
      " 1   1       10337 non-null  int64 \n",
      " 2   2       10337 non-null  int64 \n",
      " 3   3       10337 non-null  int64 \n",
      " 4   4       10337 non-null  object\n",
      " 5   5       10337 non-null  object\n",
      " 6   6       10325 non-null  object\n",
      " 7   7       10337 non-null  object\n",
      " 8   8       10337 non-null  object\n",
      " 9   9       10337 non-null  object\n",
      " 10  10      10337 non-null  object\n",
      " 11  11      10337 non-null  object\n",
      " 12  12      10337 non-null  object\n",
      " 13  13      10337 non-null  object\n",
      " 14  14      10337 non-null  object\n",
      " 15  15      10337 non-null  object\n",
      " 16  16      10337 non-null  object\n",
      " 17  17      10337 non-null  object\n",
      " 18  18      10337 non-null  object\n",
      " 19  19      10337 non-null  object\n",
      " 20  20      10337 non-null  object\n",
      " 21  21      10337 non-null  object\n",
      " 22  22      10337 non-null  object\n",
      " 23  23      10337 non-null  object\n",
      " 24  24      10337 non-null  object\n",
      " 25  25      10337 non-null  object\n",
      " 26  26      10337 non-null  object\n",
      " 27  27      10337 non-null  object\n",
      " 28  28      10337 non-null  object\n",
      " 29  29      10337 non-null  object\n",
      " 30  30      10337 non-null  object\n",
      " 31  31      10337 non-null  object\n",
      " 32  32      10337 non-null  object\n",
      " 33  33      10337 non-null  object\n",
      " 34  34      10337 non-null  object\n",
      " 35  35      10337 non-null  object\n",
      " 36  36      10337 non-null  object\n",
      " 37  37      10337 non-null  object\n",
      " 38  38      10337 non-null  object\n",
      " 39  39      10337 non-null  object\n",
      " 40  40      10337 non-null  object\n",
      " 41  41      10337 non-null  object\n",
      " 42  42      10337 non-null  object\n",
      " 43  43      10337 non-null  object\n",
      "dtypes: int64(4), object(40)\n",
      "memory usage: 3.5+ MB\n"
     ]
    }
   ],
   "source": [
    "# Let's review the data types of the attributes/features/columns\n",
    "df.info()"
   ]
  },
  {
   "cell_type": "code",
   "execution_count": 4,
   "metadata": {},
   "outputs": [],
   "source": [
    "# Here is all the column label names provided as a string\n",
    "column_labels_raw = 'Wban,date,Time,StationType,sky_condition,sky_conditionFlag,visibility,visibilityFlag,wx_and_obst_to_vision,wx_and_obst_to_visionFlag,dry_bulb_faren,dry_bulb_farenFlag,dry_bulb_cel,dry_bulb_celFlag,wet_bulb_faren,wet_bulb_farenFlag,wet_bulb_cel,wet_bulb_celFlag,dew_point_faren,dew_point_farenFlag,dew_point_cel,dew_point_celFlag,relative_humidity,relative_humidityFlag,wind_speed,wind_speedFlag,wind_direction,wind_directionFlag,value_for_wind_character,value_for_wind_characterFlag,station_pressure,station_pressureFlag,pressure_tendency,pressure_tendencyFlag,presschange,presschangeFlag,sea_level_pressure,sea_level_pressureFlag,record_type,hourly_precip,hourly_precipFlag,altimeter,altimeterFlag,junk'"
   ]
  },
  {
   "cell_type": "code",
   "execution_count": 5,
   "metadata": {},
   "outputs": [
    {
     "data": {
      "text/plain": [
       "['Wban',\n",
       " 'date',\n",
       " 'Time',\n",
       " 'StationType',\n",
       " 'sky_condition',\n",
       " 'sky_conditionFlag',\n",
       " 'visibility',\n",
       " 'visibilityFlag',\n",
       " 'wx_and_obst_to_vision',\n",
       " 'wx_and_obst_to_visionFlag',\n",
       " 'dry_bulb_faren',\n",
       " 'dry_bulb_farenFlag',\n",
       " 'dry_bulb_cel',\n",
       " 'dry_bulb_celFlag',\n",
       " 'wet_bulb_faren',\n",
       " 'wet_bulb_farenFlag',\n",
       " 'wet_bulb_cel',\n",
       " 'wet_bulb_celFlag',\n",
       " 'dew_point_faren',\n",
       " 'dew_point_farenFlag',\n",
       " 'dew_point_cel',\n",
       " 'dew_point_celFlag',\n",
       " 'relative_humidity',\n",
       " 'relative_humidityFlag',\n",
       " 'wind_speed',\n",
       " 'wind_speedFlag',\n",
       " 'wind_direction',\n",
       " 'wind_directionFlag',\n",
       " 'value_for_wind_character',\n",
       " 'value_for_wind_characterFlag',\n",
       " 'station_pressure',\n",
       " 'station_pressureFlag',\n",
       " 'pressure_tendency',\n",
       " 'pressure_tendencyFlag',\n",
       " 'presschange',\n",
       " 'presschangeFlag',\n",
       " 'sea_level_pressure',\n",
       " 'sea_level_pressureFlag',\n",
       " 'record_type',\n",
       " 'hourly_precip',\n",
       " 'hourly_precipFlag',\n",
       " 'altimeter',\n",
       " 'altimeterFlag',\n",
       " 'junk']"
      ]
     },
     "execution_count": 5,
     "metadata": {},
     "output_type": "execute_result"
    }
   ],
   "source": [
    "# In order to prep the column labels as list, we need to split the string on the commas and assign it to column_labels_list\n",
    "column_labels_list = column_labels_raw.split(',')\n",
    "column_labels_list"
   ]
  },
  {
   "cell_type": "code",
   "execution_count": 6,
   "metadata": {},
   "outputs": [
    {
     "data": {
      "text/plain": [
       "Index(['Wban', 'date', 'Time', 'StationType', 'sky_condition',\n",
       "       'sky_conditionFlag', 'visibility', 'visibilityFlag',\n",
       "       'wx_and_obst_to_vision', 'wx_and_obst_to_visionFlag', 'dry_bulb_faren',\n",
       "       'dry_bulb_farenFlag', 'dry_bulb_cel', 'dry_bulb_celFlag',\n",
       "       'wet_bulb_faren', 'wet_bulb_farenFlag', 'wet_bulb_cel',\n",
       "       'wet_bulb_celFlag', 'dew_point_faren', 'dew_point_farenFlag',\n",
       "       'dew_point_cel', 'dew_point_celFlag', 'relative_humidity',\n",
       "       'relative_humidityFlag', 'wind_speed', 'wind_speedFlag',\n",
       "       'wind_direction', 'wind_directionFlag', 'value_for_wind_character',\n",
       "       'value_for_wind_characterFlag', 'station_pressure',\n",
       "       'station_pressureFlag', 'pressure_tendency', 'pressure_tendencyFlag',\n",
       "       'presschange', 'presschangeFlag', 'sea_level_pressure',\n",
       "       'sea_level_pressureFlag', 'record_type', 'hourly_precip',\n",
       "       'hourly_precipFlag', 'altimeter', 'altimeterFlag', 'junk'],\n",
       "      dtype='object')"
      ]
     },
     "execution_count": 6,
     "metadata": {},
     "output_type": "execute_result"
    }
   ],
   "source": [
    "# Currently the column labels is a numeric index from 0-43: type(df.columns)\n",
    "# Let's assign the new column label list above as the new header of the df dataframe:\n",
    "\n",
    "df.columns = column_labels_list\n",
    "df.columns"
   ]
  },
  {
   "cell_type": "code",
   "execution_count": 7,
   "metadata": {},
   "outputs": [
    {
     "data": {
      "text/html": [
       "<div>\n",
       "<style scoped>\n",
       "    .dataframe tbody tr th:only-of-type {\n",
       "        vertical-align: middle;\n",
       "    }\n",
       "\n",
       "    .dataframe tbody tr th {\n",
       "        vertical-align: top;\n",
       "    }\n",
       "\n",
       "    .dataframe thead th {\n",
       "        text-align: right;\n",
       "    }\n",
       "</style>\n",
       "<table border=\"1\" class=\"dataframe\">\n",
       "  <thead>\n",
       "    <tr style=\"text-align: right;\">\n",
       "      <th></th>\n",
       "      <th>Wban</th>\n",
       "      <th>date</th>\n",
       "      <th>Time</th>\n",
       "      <th>StationType</th>\n",
       "      <th>sky_condition</th>\n",
       "      <th>visibility</th>\n",
       "      <th>dry_bulb_faren</th>\n",
       "      <th>dry_bulb_cel</th>\n",
       "      <th>wet_bulb_faren</th>\n",
       "      <th>wet_bulb_cel</th>\n",
       "      <th>dew_point_faren</th>\n",
       "      <th>dew_point_cel</th>\n",
       "      <th>relative_humidity</th>\n",
       "      <th>wind_speed</th>\n",
       "      <th>wind_direction</th>\n",
       "      <th>station_pressure</th>\n",
       "      <th>sea_level_pressure</th>\n",
       "    </tr>\n",
       "  </thead>\n",
       "  <tbody>\n",
       "    <tr>\n",
       "      <th>0</th>\n",
       "      <td>13904</td>\n",
       "      <td>20110101</td>\n",
       "      <td>53</td>\n",
       "      <td>12</td>\n",
       "      <td>OVC045</td>\n",
       "      <td>10.00</td>\n",
       "      <td>51</td>\n",
       "      <td>10.6</td>\n",
       "      <td>38</td>\n",
       "      <td>3.1</td>\n",
       "      <td>15</td>\n",
       "      <td>-9.4</td>\n",
       "      <td>24</td>\n",
       "      <td>15</td>\n",
       "      <td>360</td>\n",
       "      <td>29.42</td>\n",
       "      <td>29.95</td>\n",
       "    </tr>\n",
       "    <tr>\n",
       "      <th>1</th>\n",
       "      <td>13904</td>\n",
       "      <td>20110101</td>\n",
       "      <td>153</td>\n",
       "      <td>12</td>\n",
       "      <td>OVC049</td>\n",
       "      <td>10.00</td>\n",
       "      <td>51</td>\n",
       "      <td>10.6</td>\n",
       "      <td>37</td>\n",
       "      <td>3.0</td>\n",
       "      <td>14</td>\n",
       "      <td>-10.0</td>\n",
       "      <td>23</td>\n",
       "      <td>10</td>\n",
       "      <td>340</td>\n",
       "      <td>29.49</td>\n",
       "      <td>30.01</td>\n",
       "    </tr>\n",
       "    <tr>\n",
       "      <th>2</th>\n",
       "      <td>13904</td>\n",
       "      <td>20110101</td>\n",
       "      <td>253</td>\n",
       "      <td>12</td>\n",
       "      <td>OVC060</td>\n",
       "      <td>10.00</td>\n",
       "      <td>51</td>\n",
       "      <td>10.6</td>\n",
       "      <td>37</td>\n",
       "      <td>2.9</td>\n",
       "      <td>13</td>\n",
       "      <td>-10.6</td>\n",
       "      <td>22</td>\n",
       "      <td>15</td>\n",
       "      <td>010</td>\n",
       "      <td>29.49</td>\n",
       "      <td>30.01</td>\n",
       "    </tr>\n",
       "    <tr>\n",
       "      <th>3</th>\n",
       "      <td>13904</td>\n",
       "      <td>20110101</td>\n",
       "      <td>353</td>\n",
       "      <td>12</td>\n",
       "      <td>OVC065</td>\n",
       "      <td>10.00</td>\n",
       "      <td>50</td>\n",
       "      <td>10.0</td>\n",
       "      <td>38</td>\n",
       "      <td>3.1</td>\n",
       "      <td>17</td>\n",
       "      <td>-8.3</td>\n",
       "      <td>27</td>\n",
       "      <td>7</td>\n",
       "      <td>350</td>\n",
       "      <td>29.51</td>\n",
       "      <td>30.03</td>\n",
       "    </tr>\n",
       "    <tr>\n",
       "      <th>4</th>\n",
       "      <td>13904</td>\n",
       "      <td>20110101</td>\n",
       "      <td>453</td>\n",
       "      <td>12</td>\n",
       "      <td>BKN070</td>\n",
       "      <td>10.00</td>\n",
       "      <td>50</td>\n",
       "      <td>10.0</td>\n",
       "      <td>37</td>\n",
       "      <td>2.8</td>\n",
       "      <td>15</td>\n",
       "      <td>-9.4</td>\n",
       "      <td>25</td>\n",
       "      <td>11</td>\n",
       "      <td>020</td>\n",
       "      <td>29.51</td>\n",
       "      <td>30.04</td>\n",
       "    </tr>\n",
       "  </tbody>\n",
       "</table>\n",
       "</div>"
      ],
      "text/plain": [
       "    Wban      date  Time  StationType sky_condition visibility dry_bulb_faren  \\\n",
       "0  13904  20110101    53           12        OVC045      10.00             51   \n",
       "1  13904  20110101   153           12        OVC049      10.00             51   \n",
       "2  13904  20110101   253           12        OVC060      10.00             51   \n",
       "3  13904  20110101   353           12        OVC065      10.00             50   \n",
       "4  13904  20110101   453           12        BKN070      10.00             50   \n",
       "\n",
       "  dry_bulb_cel wet_bulb_faren wet_bulb_cel dew_point_faren dew_point_cel  \\\n",
       "0         10.6             38          3.1              15          -9.4   \n",
       "1         10.6             37          3.0              14         -10.0   \n",
       "2         10.6             37          2.9              13         -10.6   \n",
       "3         10.0             38          3.1              17          -8.3   \n",
       "4         10.0             37          2.8              15          -9.4   \n",
       "\n",
       "  relative_humidity wind_speed wind_direction station_pressure  \\\n",
       "0                24         15            360            29.42   \n",
       "1                23         10            340            29.49   \n",
       "2                22         15            010            29.49   \n",
       "3                27          7            350            29.51   \n",
       "4                25         11            020            29.51   \n",
       "\n",
       "  sea_level_pressure  \n",
       "0              29.95  \n",
       "1              30.01  \n",
       "2              30.01  \n",
       "3              30.03  \n",
       "4              30.04  "
      ]
     },
     "execution_count": 7,
     "metadata": {},
     "output_type": "execute_result"
    }
   ],
   "source": [
    "# Here is a list of columns that do not pertain to our analysis, so let's drop them from our dataframe\n",
    "list_to_drop = ['sky_conditionFlag', 'visibilityFlag', 'wx_and_obst_to_vision', 'wx_and_obst_to_visionFlag', 'dry_bulb_farenFlag',\n",
    " 'dry_bulb_celFlag', 'wet_bulb_farenFlag', 'wet_bulb_celFlag', 'dew_point_farenFlag', 'dew_point_celFlag', 'relative_humidityFlag',\n",
    " 'wind_speedFlag', 'wind_directionFlag', 'value_for_wind_character', 'value_for_wind_characterFlag', 'station_pressureFlag',\n",
    " 'pressure_tendencyFlag', 'pressure_tendency', 'presschange', 'presschangeFlag', 'sea_level_pressureFlag', 'hourly_precip',\n",
    " 'hourly_precipFlag', 'altimeter', 'record_type', 'altimeterFlag', 'junk']\n",
    "\n",
    "len(list_to_drop) # 27 columns to be dropped\n",
    "\n",
    "# Let's use the pd.drop(label or list, axis) function to remove these columns; axis param needs to be specified as 1 or 'columns' because default is 0 (index) which will error out\n",
    "df_dropped = df.drop(list_to_drop, axis=1)\n",
    "df_dropped.head()"
   ]
  },
  {
   "cell_type": "code",
   "execution_count": 8,
   "metadata": {},
   "outputs": [
    {
     "name": "stdout",
     "output_type": "stream",
     "text": [
      "<class 'pandas.core.frame.DataFrame'>\n",
      "RangeIndex: 10337 entries, 0 to 10336\n",
      "Data columns (total 17 columns):\n",
      " #   Column              Non-Null Count  Dtype \n",
      "---  ------              --------------  ----- \n",
      " 0   Wban                10337 non-null  int64 \n",
      " 1   date                10337 non-null  int64 \n",
      " 2   Time                10337 non-null  int64 \n",
      " 3   StationType         10337 non-null  int64 \n",
      " 4   sky_condition       10337 non-null  object\n",
      " 5   visibility          10325 non-null  object\n",
      " 6   dry_bulb_faren      10337 non-null  object\n",
      " 7   dry_bulb_cel        10337 non-null  object\n",
      " 8   wet_bulb_faren      10337 non-null  object\n",
      " 9   wet_bulb_cel        10337 non-null  object\n",
      " 10  dew_point_faren     10337 non-null  object\n",
      " 11  dew_point_cel       10337 non-null  object\n",
      " 12  relative_humidity   10337 non-null  object\n",
      " 13  wind_speed          10337 non-null  object\n",
      " 14  wind_direction      10337 non-null  object\n",
      " 15  station_pressure    10337 non-null  object\n",
      " 16  sea_level_pressure  10337 non-null  object\n",
      "dtypes: int64(4), object(13)\n",
      "memory usage: 1.3+ MB\n"
     ]
    }
   ],
   "source": [
    "df_dropped.info() # we have 17 columns left to work with"
   ]
  },
  {
   "cell_type": "markdown",
   "metadata": {},
   "source": [
    "## Cleaning and tidying datetime data"
   ]
  },
  {
   "cell_type": "code",
   "execution_count": 9,
   "metadata": {},
   "outputs": [
    {
     "name": "stdout",
     "output_type": "stream",
     "text": [
      "<class 'pandas.core.frame.DataFrame'>\n",
      "RangeIndex: 10337 entries, 0 to 10336\n",
      "Data columns (total 2 columns):\n",
      " #   Column  Non-Null Count  Dtype\n",
      "---  ------  --------------  -----\n",
      " 0   date    10337 non-null  int64\n",
      " 1   Time    10337 non-null  int64\n",
      "dtypes: int64(2)\n",
      "memory usage: 161.6 KB\n"
     ]
    }
   ],
   "source": [
    "# Let's review the date/time columns' data types\n",
    "df_dropped[['date', 'Time']].info() # we can also use df_dropped[['date', 'Time']].dtypes method"
   ]
  },
  {
   "cell_type": "code",
   "execution_count": 10,
   "metadata": {},
   "outputs": [],
   "source": [
    "# As we can see df_dropped['date'] is of type integer, let's convert it to string first with astype() method:\n",
    "df_dropped['date'] = df_dropped['date'].astype(str)"
   ]
  },
  {
   "cell_type": "code",
   "execution_count": 11,
   "metadata": {},
   "outputs": [
    {
     "data": {
      "text/plain": [
       "0     53\n",
       "1    153\n",
       "2    253\n",
       "3    353\n",
       "4    453\n",
       "Name: Time, dtype: int64"
      ]
     },
     "execution_count": 11,
     "metadata": {},
     "output_type": "execute_result"
    }
   ],
   "source": [
    "# Let's review the time column\n",
    "df_dropped['Time'].head()"
   ]
  },
  {
   "cell_type": "code",
   "execution_count": 12,
   "metadata": {},
   "outputs": [
    {
     "data": {
      "text/plain": [
       "0    0053\n",
       "1    0153\n",
       "2    0253\n",
       "3    0353\n",
       "4    0453\n",
       "Name: Time, dtype: object"
      ]
     },
     "execution_count": 12,
     "metadata": {},
     "output_type": "execute_result"
    }
   ],
   "source": [
    "# We need to make Time column conform to military time, so let's first convert it to string \n",
    "# and then pad it with left 0's (using pandas' .str.pad method)\n",
    "df_dropped['Time'] = df_dropped['Time'].astype(str).str.pad(4, side ='left', fillchar ='0')\n",
    "df_dropped['Time'].head()\n",
    "\n",
    "# Another way to accomplish this is using pandas' apply function to utilize the string .format() method\n",
    "# df_dropped['Time'].apply(lambda x:'{:0>4}'.format(x)) # {:0>4} - pad with 4 0s (review documentation)"
   ]
  },
  {
   "cell_type": "code",
   "execution_count": 13,
   "metadata": {},
   "outputs": [],
   "source": [
    "# Now that we have date and Time columns as trings and cleaned up appropriately, we can concatenate them:\n",
    "date_string = df_dropped['date']+df_dropped['Time']\n",
    "\n",
    "# And now let's convert the date_string Series to datetime with the appropriate format:\n",
    "date_times = pd.to_datetime(date_string, format='%Y%m%d%H%M')"
   ]
  },
  {
   "cell_type": "code",
   "execution_count": 14,
   "metadata": {},
   "outputs": [
    {
     "data": {
      "text/html": [
       "<div>\n",
       "<style scoped>\n",
       "    .dataframe tbody tr th:only-of-type {\n",
       "        vertical-align: middle;\n",
       "    }\n",
       "\n",
       "    .dataframe tbody tr th {\n",
       "        vertical-align: top;\n",
       "    }\n",
       "\n",
       "    .dataframe thead th {\n",
       "        text-align: right;\n",
       "    }\n",
       "</style>\n",
       "<table border=\"1\" class=\"dataframe\">\n",
       "  <thead>\n",
       "    <tr style=\"text-align: right;\">\n",
       "      <th></th>\n",
       "      <th>Wban</th>\n",
       "      <th>date</th>\n",
       "      <th>Time</th>\n",
       "      <th>StationType</th>\n",
       "      <th>sky_condition</th>\n",
       "      <th>visibility</th>\n",
       "      <th>dry_bulb_faren</th>\n",
       "      <th>dry_bulb_cel</th>\n",
       "      <th>wet_bulb_faren</th>\n",
       "      <th>wet_bulb_cel</th>\n",
       "      <th>dew_point_faren</th>\n",
       "      <th>dew_point_cel</th>\n",
       "      <th>relative_humidity</th>\n",
       "      <th>wind_speed</th>\n",
       "      <th>wind_direction</th>\n",
       "      <th>station_pressure</th>\n",
       "      <th>sea_level_pressure</th>\n",
       "    </tr>\n",
       "  </thead>\n",
       "  <tbody>\n",
       "    <tr>\n",
       "      <th>2011-01-01 00:53:00</th>\n",
       "      <td>13904</td>\n",
       "      <td>20110101</td>\n",
       "      <td>0053</td>\n",
       "      <td>12</td>\n",
       "      <td>OVC045</td>\n",
       "      <td>10.00</td>\n",
       "      <td>51</td>\n",
       "      <td>10.6</td>\n",
       "      <td>38</td>\n",
       "      <td>3.1</td>\n",
       "      <td>15</td>\n",
       "      <td>-9.4</td>\n",
       "      <td>24</td>\n",
       "      <td>15</td>\n",
       "      <td>360</td>\n",
       "      <td>29.42</td>\n",
       "      <td>29.95</td>\n",
       "    </tr>\n",
       "    <tr>\n",
       "      <th>2011-01-01 01:53:00</th>\n",
       "      <td>13904</td>\n",
       "      <td>20110101</td>\n",
       "      <td>0153</td>\n",
       "      <td>12</td>\n",
       "      <td>OVC049</td>\n",
       "      <td>10.00</td>\n",
       "      <td>51</td>\n",
       "      <td>10.6</td>\n",
       "      <td>37</td>\n",
       "      <td>3.0</td>\n",
       "      <td>14</td>\n",
       "      <td>-10.0</td>\n",
       "      <td>23</td>\n",
       "      <td>10</td>\n",
       "      <td>340</td>\n",
       "      <td>29.49</td>\n",
       "      <td>30.01</td>\n",
       "    </tr>\n",
       "    <tr>\n",
       "      <th>2011-01-01 02:53:00</th>\n",
       "      <td>13904</td>\n",
       "      <td>20110101</td>\n",
       "      <td>0253</td>\n",
       "      <td>12</td>\n",
       "      <td>OVC060</td>\n",
       "      <td>10.00</td>\n",
       "      <td>51</td>\n",
       "      <td>10.6</td>\n",
       "      <td>37</td>\n",
       "      <td>2.9</td>\n",
       "      <td>13</td>\n",
       "      <td>-10.6</td>\n",
       "      <td>22</td>\n",
       "      <td>15</td>\n",
       "      <td>010</td>\n",
       "      <td>29.49</td>\n",
       "      <td>30.01</td>\n",
       "    </tr>\n",
       "    <tr>\n",
       "      <th>2011-01-01 03:53:00</th>\n",
       "      <td>13904</td>\n",
       "      <td>20110101</td>\n",
       "      <td>0353</td>\n",
       "      <td>12</td>\n",
       "      <td>OVC065</td>\n",
       "      <td>10.00</td>\n",
       "      <td>50</td>\n",
       "      <td>10.0</td>\n",
       "      <td>38</td>\n",
       "      <td>3.1</td>\n",
       "      <td>17</td>\n",
       "      <td>-8.3</td>\n",
       "      <td>27</td>\n",
       "      <td>7</td>\n",
       "      <td>350</td>\n",
       "      <td>29.51</td>\n",
       "      <td>30.03</td>\n",
       "    </tr>\n",
       "    <tr>\n",
       "      <th>2011-01-01 04:53:00</th>\n",
       "      <td>13904</td>\n",
       "      <td>20110101</td>\n",
       "      <td>0453</td>\n",
       "      <td>12</td>\n",
       "      <td>BKN070</td>\n",
       "      <td>10.00</td>\n",
       "      <td>50</td>\n",
       "      <td>10.0</td>\n",
       "      <td>37</td>\n",
       "      <td>2.8</td>\n",
       "      <td>15</td>\n",
       "      <td>-9.4</td>\n",
       "      <td>25</td>\n",
       "      <td>11</td>\n",
       "      <td>020</td>\n",
       "      <td>29.51</td>\n",
       "      <td>30.04</td>\n",
       "    </tr>\n",
       "  </tbody>\n",
       "</table>\n",
       "</div>"
      ],
      "text/plain": [
       "                      Wban      date  Time  StationType sky_condition  \\\n",
       "2011-01-01 00:53:00  13904  20110101  0053           12        OVC045   \n",
       "2011-01-01 01:53:00  13904  20110101  0153           12        OVC049   \n",
       "2011-01-01 02:53:00  13904  20110101  0253           12        OVC060   \n",
       "2011-01-01 03:53:00  13904  20110101  0353           12        OVC065   \n",
       "2011-01-01 04:53:00  13904  20110101  0453           12        BKN070   \n",
       "\n",
       "                    visibility dry_bulb_faren dry_bulb_cel wet_bulb_faren  \\\n",
       "2011-01-01 00:53:00      10.00             51         10.6             38   \n",
       "2011-01-01 01:53:00      10.00             51         10.6             37   \n",
       "2011-01-01 02:53:00      10.00             51         10.6             37   \n",
       "2011-01-01 03:53:00      10.00             50         10.0             38   \n",
       "2011-01-01 04:53:00      10.00             50         10.0             37   \n",
       "\n",
       "                    wet_bulb_cel dew_point_faren dew_point_cel  \\\n",
       "2011-01-01 00:53:00          3.1              15          -9.4   \n",
       "2011-01-01 01:53:00          3.0              14         -10.0   \n",
       "2011-01-01 02:53:00          2.9              13         -10.6   \n",
       "2011-01-01 03:53:00          3.1              17          -8.3   \n",
       "2011-01-01 04:53:00          2.8              15          -9.4   \n",
       "\n",
       "                    relative_humidity wind_speed wind_direction  \\\n",
       "2011-01-01 00:53:00                24         15            360   \n",
       "2011-01-01 01:53:00                23         10            340   \n",
       "2011-01-01 02:53:00                22         15            010   \n",
       "2011-01-01 03:53:00                27          7            350   \n",
       "2011-01-01 04:53:00                25         11            020   \n",
       "\n",
       "                    station_pressure sea_level_pressure  \n",
       "2011-01-01 00:53:00            29.42              29.95  \n",
       "2011-01-01 01:53:00            29.49              30.01  \n",
       "2011-01-01 02:53:00            29.49              30.01  \n",
       "2011-01-01 03:53:00            29.51              30.03  \n",
       "2011-01-01 04:53:00            29.51              30.04  "
      ]
     },
     "execution_count": 14,
     "metadata": {},
     "output_type": "execute_result"
    }
   ],
   "source": [
    "# Finally, let's assign this as the new index of the data frame\n",
    "df_clean = df_dropped.set_index(date_times)\n",
    "df_clean.head()"
   ]
  },
  {
   "cell_type": "markdown",
   "metadata": {},
   "source": [
    " ## Cleaning numeric columns"
   ]
  },
  {
   "cell_type": "code",
   "execution_count": 15,
   "metadata": {},
   "outputs": [
    {
     "data": {
      "text/plain": [
       "array([' 100', ' 101', ' 102', ' 103', ' 104', ' 105', ' 106', ' 107',\n",
       "       ' 108', ' 109', ' 110', '18', '19', '20', '21', '22', '23', '24',\n",
       "       '25', '26', '27', '28', '29', '30', '31', '32', '33', '34', '35',\n",
       "       '36', '37', '38', '39', '40', '41', '42', '43', '44', '45', '46',\n",
       "       '47', '48', '49', '50', '51', '52', '53', '54', '55', '56', '57',\n",
       "       '58', '59', '60', '61', '62', '63', '64', '65', '66', '67', '68',\n",
       "       '69', '70', '71', '72', '73', '74', '75', '76', '77', '78', '79',\n",
       "       '80', '81', '82', '83', '84', '85', '86', '87', '88', '89', '90',\n",
       "       '91', '92', '93', '94', '95', '96', '97', '98', '99', 'M'],\n",
       "      dtype=object)"
      ]
     },
     "execution_count": 15,
     "metadata": {},
     "output_type": "execute_result"
    }
   ],
   "source": [
    "# We know that the 'dry_bulb_faren' column has number values but they are string format (df_clean['dry_bulb_faren'].info())\n",
    "# Let's see if there is any non-number values in the 'dry_bulb_faren' column:\n",
    "# It looks like there are string characters of 'M'\n",
    "\n",
    "np.unique(df_clean['dry_bulb_faren'])"
   ]
  },
  {
   "cell_type": "code",
   "execution_count": 16,
   "metadata": {},
   "outputs": [
    {
     "data": {
      "text/plain": [
       "2011-06-20 06:53:00    79\n",
       "2011-06-20 07:53:00    80\n",
       "2011-06-20 08:27:00     M\n",
       "2011-06-20 08:28:00     M\n",
       "2011-06-20 08:29:00     M\n",
       "2011-06-20 08:30:00     M\n",
       "2011-06-20 08:31:00     M\n",
       "2011-06-20 08:32:00     M\n",
       "2011-06-20 08:33:00     M\n",
       "2011-06-20 08:34:00     M\n",
       "2011-06-20 08:35:00     M\n",
       "2011-06-20 08:53:00    83\n",
       "2011-06-20 09:08:00    84\n",
       "2011-06-20 09:53:00    88\n",
       "Name: dry_bulb_faren, dtype: object"
      ]
     },
     "execution_count": 16,
     "metadata": {},
     "output_type": "execute_result"
    }
   ],
   "source": [
    "# Search partial string on the index between 6 and 10 am on 2011-06-20 to see that there are 'M' string\n",
    "df_clean.loc['2011-06-20 06:00:00':'2011-06-20 10:00:00', 'dry_bulb_faren']"
   ]
  },
  {
   "cell_type": "code",
   "execution_count": 17,
   "metadata": {},
   "outputs": [
    {
     "data": {
      "text/plain": [
       "2011-06-20 06:53:00    79.0\n",
       "2011-06-20 07:53:00    80.0\n",
       "2011-06-20 08:27:00     NaN\n",
       "2011-06-20 08:28:00     NaN\n",
       "2011-06-20 08:29:00     NaN\n",
       "2011-06-20 08:30:00     NaN\n",
       "2011-06-20 08:31:00     NaN\n",
       "2011-06-20 08:32:00     NaN\n",
       "2011-06-20 08:33:00     NaN\n",
       "2011-06-20 08:34:00     NaN\n",
       "2011-06-20 08:35:00     NaN\n",
       "2011-06-20 08:53:00    83.0\n",
       "2011-06-20 09:08:00    84.0\n",
       "2011-06-20 09:53:00    88.0\n",
       "Name: dry_bulb_faren, dtype: float64"
      ]
     },
     "execution_count": 17,
     "metadata": {},
     "output_type": "execute_result"
    }
   ],
   "source": [
    "# Best way to convert this column to numberic values, at the same time fixing the string characters by assigning them to  \n",
    "# NaN values is to use the pd.to_numeric function with errors='coerce' parameter that will set invalid parsing to be NaN.\n",
    "# Convert the 'dry_bulb_faren column' to numeric values: \n",
    "\n",
    "df_clean['dry_bulb_faren'] = pd.to_numeric(df_clean['dry_bulb_faren'], errors='coerce')\n",
    "\n",
    "# check to see the same time range to review the 'M' values:\n",
    "df_clean.loc['2011-06-20 06:00:00':'2011-06-20 10:00:00', 'dry_bulb_faren']"
   ]
  },
  {
   "cell_type": "code",
   "execution_count": 18,
   "metadata": {},
   "outputs": [],
   "source": [
    "# Let's convert the wind_speed, visibility and dew_point_faren columns to numeric values the same way as well\n",
    "df_clean['wind_speed'] = pd.to_numeric(df_clean['wind_speed'], errors='coerce')\n",
    "df_clean['dew_point_faren'] = pd.to_numeric(df_clean['dew_point_faren'], errors='coerce')\n",
    "df_clean['visibility'] = pd.to_numeric(df_clean['visibility'], errors='coerce')"
   ]
  },
  {
   "cell_type": "markdown",
   "metadata": {},
   "source": [
    "## Clean Austin 2010 weather data file"
   ]
  },
  {
   "cell_type": "code",
   "execution_count": 19,
   "metadata": {},
   "outputs": [
    {
     "name": "stdout",
     "output_type": "stream",
     "text": [
      "   Temperature  DewPoint  Pressure            Date\n",
      "0         46.2      37.5       1.0  20100101 00:00\n",
      "1         44.6      37.1       1.0  20100101 01:00\n",
      "2         44.1      36.9       1.0  20100101 02:00\n",
      "3         43.8      36.9       1.0  20100101 03:00\n",
      "4         43.5      36.8       1.0  20100101 04:00\n",
      "<class 'pandas.core.frame.DataFrame'>\n",
      "RangeIndex: 8759 entries, 0 to 8758\n",
      "Data columns (total 4 columns):\n",
      " #   Column       Non-Null Count  Dtype  \n",
      "---  ------       --------------  -----  \n",
      " 0   Temperature  8759 non-null   float64\n",
      " 1   DewPoint     8759 non-null   float64\n",
      " 2   Pressure     8759 non-null   float64\n",
      " 3   Date         8759 non-null   object \n",
      "dtypes: float64(3), object(1)\n",
      "memory usage: 273.8+ KB\n",
      "None\n"
     ]
    }
   ],
   "source": [
    "# Now that we have a fairly clean df_clean dataframe, let's follow similiar steps to review the 2010 Austin weather data file\n",
    "\n",
    "# location of data file locally or online\n",
    "data_file1=r'C:\\Users\\sefi\\Documents\\My Python Repository\\DataCamp\\h) pandas Foundations\\datasets\\weather_data_austin_2010.csv'\n",
    "\n",
    "# Read in the data file: df\n",
    "df1 = pd.read_csv(data_file1)\n",
    "\n",
    "# Top 5 rows in the dataset: dataset has headers already\n",
    "print(df1.head())\n",
    "\n",
    "# Investigate data types in the dataset: all columns are float except for Date column\n",
    "print(df1.info())\n"
   ]
  },
  {
   "cell_type": "code",
   "execution_count": 20,
   "metadata": {},
   "outputs": [],
   "source": [
    "# This data file seems to be pretty clean, but let's convert the 'Date' column to datetime and assign it as the new index\n",
    "# Don't forget the format looks like this in this column: 20100101 00:00\n",
    "# We have overwritten the original Date column\n",
    "df1['Date'] = pd.to_datetime(df1['Date'], format='%Y%m%d %H:%M')"
   ]
  },
  {
   "cell_type": "code",
   "execution_count": 21,
   "metadata": {},
   "outputs": [
    {
     "data": {
      "text/html": [
       "<div>\n",
       "<style scoped>\n",
       "    .dataframe tbody tr th:only-of-type {\n",
       "        vertical-align: middle;\n",
       "    }\n",
       "\n",
       "    .dataframe tbody tr th {\n",
       "        vertical-align: top;\n",
       "    }\n",
       "\n",
       "    .dataframe thead th {\n",
       "        text-align: right;\n",
       "    }\n",
       "</style>\n",
       "<table border=\"1\" class=\"dataframe\">\n",
       "  <thead>\n",
       "    <tr style=\"text-align: right;\">\n",
       "      <th></th>\n",
       "      <th>Temperature</th>\n",
       "      <th>DewPoint</th>\n",
       "      <th>Pressure</th>\n",
       "    </tr>\n",
       "    <tr>\n",
       "      <th>Date</th>\n",
       "      <th></th>\n",
       "      <th></th>\n",
       "      <th></th>\n",
       "    </tr>\n",
       "  </thead>\n",
       "  <tbody>\n",
       "    <tr>\n",
       "      <th>2010-01-01 00:00:00</th>\n",
       "      <td>46.2</td>\n",
       "      <td>37.5</td>\n",
       "      <td>1.0</td>\n",
       "    </tr>\n",
       "    <tr>\n",
       "      <th>2010-01-01 01:00:00</th>\n",
       "      <td>44.6</td>\n",
       "      <td>37.1</td>\n",
       "      <td>1.0</td>\n",
       "    </tr>\n",
       "    <tr>\n",
       "      <th>2010-01-01 02:00:00</th>\n",
       "      <td>44.1</td>\n",
       "      <td>36.9</td>\n",
       "      <td>1.0</td>\n",
       "    </tr>\n",
       "    <tr>\n",
       "      <th>2010-01-01 03:00:00</th>\n",
       "      <td>43.8</td>\n",
       "      <td>36.9</td>\n",
       "      <td>1.0</td>\n",
       "    </tr>\n",
       "    <tr>\n",
       "      <th>2010-01-01 04:00:00</th>\n",
       "      <td>43.5</td>\n",
       "      <td>36.8</td>\n",
       "      <td>1.0</td>\n",
       "    </tr>\n",
       "  </tbody>\n",
       "</table>\n",
       "</div>"
      ],
      "text/plain": [
       "                     Temperature  DewPoint  Pressure\n",
       "Date                                                \n",
       "2010-01-01 00:00:00         46.2      37.5       1.0\n",
       "2010-01-01 01:00:00         44.6      37.1       1.0\n",
       "2010-01-01 02:00:00         44.1      36.9       1.0\n",
       "2010-01-01 03:00:00         43.8      36.9       1.0\n",
       "2010-01-01 04:00:00         43.5      36.8       1.0"
      ]
     },
     "execution_count": 21,
     "metadata": {},
     "output_type": "execute_result"
    }
   ],
   "source": [
    "# Finally, let's assign this new column as the new index of the data frame \n",
    "df1_clean = df1.set_index('Date')\n",
    "df1_clean.head()"
   ]
  },
  {
   "cell_type": "code",
   "execution_count": 22,
   "metadata": {},
   "outputs": [
    {
     "name": "stdout",
     "output_type": "stream",
     "text": [
      "<class 'pandas.core.frame.DataFrame'>\n",
      "DatetimeIndex: 8759 entries, 2010-01-01 00:00:00 to 2010-12-31 23:00:00\n",
      "Data columns (total 3 columns):\n",
      " #   Column       Non-Null Count  Dtype  \n",
      "---  ------       --------------  -----  \n",
      " 0   Temperature  8759 non-null   float64\n",
      " 1   DewPoint     8759 non-null   float64\n",
      " 2   Pressure     8759 non-null   float64\n",
      "dtypes: float64(3)\n",
      "memory usage: 273.7 KB\n"
     ]
    }
   ],
   "source": [
    "df1_clean.info()"
   ]
  },
  {
   "cell_type": "markdown",
   "metadata": {},
   "source": [
    "## Statistical Exploratory Data Analysis (EDA) - Samples"
   ]
  },
  {
   "cell_type": "code",
   "execution_count": 23,
   "metadata": {},
   "outputs": [
    {
     "name": "stdout",
     "output_type": "stream",
     "text": [
      "72.0\n",
      "78.0\n",
      "48.17861080485116\n"
     ]
    }
   ],
   "source": [
    "# We will use our first clean dataset (NOAA 2011)\n",
    "# Let's use partial datetime string selection to analyze the 'dry_bulb_faren' column \n",
    "# and print the median/mean temperatures for specific time ranges\n",
    "# More stat computations can be done if necessary\n",
    "\n",
    "# Print the median of the dry_bulb_faren column\n",
    "print(df_clean['dry_bulb_faren'].median())\n",
    "\n",
    "# Print the median of the dry_bulb_faren column for the time range '2011-Apr':'2011-Jun'\n",
    "print(df_clean.loc['2011-Apr':'2011-Jun', 'dry_bulb_faren'].median())\n",
    "\n",
    "# Print the mean of the dry_bulb_faren column for the month of January\n",
    "print(df_clean.loc['2011-Jan', 'dry_bulb_faren'].mean())"
   ]
  },
  {
   "cell_type": "code",
   "execution_count": 24,
   "metadata": {},
   "outputs": [
    {
     "name": "stdout",
     "output_type": "stream",
     "text": [
      "68.7\n",
      "74.6\n",
      "49.987365591397854\n"
     ]
    }
   ],
   "source": [
    "# Let's do similar calculations on the clean Austin 2010 dataset for specific time ranges\n",
    "\n",
    "# Print the median of the dry_bulb_faren column\n",
    "print(df1_clean['Temperature'].median())\n",
    "\n",
    "# Print the median of the dry_bulb_faren column for the time range '2011-Apr':'2011-Jun'\n",
    "print(df1_clean.loc['2010-Apr':'2010-Jun', 'Temperature'].median())\n",
    "\n",
    "# Print the mean of the dry_bulb_faren column for the month of January\n",
    "print(df1_clean.loc['2010-Jan', 'Temperature'].mean())"
   ]
  },
  {
   "cell_type": "markdown",
   "metadata": {},
   "source": [
    "## Compare the 2011 weather data with the 30-year normals reported in 2010"
   ]
  },
  {
   "cell_type": "code",
   "execution_count": 25,
   "metadata": {},
   "outputs": [
    {
     "data": {
      "text/plain": [
       "array([50.16666667, 39.41666667, 46.84615385, 53.36734694, 57.96551724])"
      ]
     },
     "execution_count": 25,
     "metadata": {},
     "output_type": "execute_result"
    }
   ],
   "source": [
    "# .resample(): a method for frequency conversion and resampling of time series - 'D' parameter: daily\n",
    "\n",
    "# Downsample df_clean by day and aggregate by mean: daily_mean_2011\n",
    "daily_mean_2011 = df_clean.resample('D').mean()\n",
    "\n",
    "# Extract the dry_bulb_faren column from daily_mean_2011 using .values attribute tpo create a Numpy array: daily_temp_2011\n",
    "daily_temp_2011 = daily_mean_2011['dry_bulb_faren'].values\n",
    "\n",
    "daily_temp_2011[0:5] # just to look at the first 5 elements in the array"
   ]
  },
  {
   "cell_type": "code",
   "execution_count": 26,
   "metadata": {},
   "outputs": [
    {
     "data": {
      "text/plain": [
       "0    49.337500\n",
       "1    49.795833\n",
       "2    49.900000\n",
       "3    49.729167\n",
       "4    49.841667\n",
       "Name: Temperature, dtype: float64"
      ]
     },
     "execution_count": 26,
     "metadata": {},
     "output_type": "execute_result"
    }
   ],
   "source": [
    "# Downsample df1_clean by day and aggregate by mean: daily_mean_2010\n",
    "daily_mean_2010 = df1_clean.resample('D').mean()\n",
    "\n",
    "# Extract the Temperature column from daily_climate using .reset_index(): daily_temp_climate\n",
    "# Let's use a different method to do this: Use reset_index method to make sure the Series align properly\n",
    "# Series object is basically interchangeable with a one-dimensional NumPy array. \n",
    "# The essential difference is the presence of the index\n",
    "daily_temp_2010 = daily_mean_2010.reset_index()['Temperature']\n",
    "\n",
    "daily_temp_2010[0:5]"
   ]
  },
  {
   "cell_type": "code",
   "execution_count": 27,
   "metadata": {},
   "outputs": [
    {
     "data": {
      "text/plain": [
       "Date\n",
       "2010-01-01    49.337500\n",
       "2010-01-02    49.795833\n",
       "2010-01-03    49.900000\n",
       "2010-01-04    49.729167\n",
       "2010-01-05    49.841667\n",
       "Freq: D, Name: Temperature, dtype: float64"
      ]
     },
     "execution_count": 27,
     "metadata": {},
     "output_type": "execute_result"
    }
   ],
   "source": [
    "# We can just get the 'Temperature' column directly in this case, but this will result in different Series \n",
    "# with datetime index\n",
    "\n",
    "daily_temp_2010_1 = daily_mean_2010['Temperature']\n",
    "daily_temp_2010_1[0:5]"
   ]
  },
  {
   "cell_type": "code",
   "execution_count": 28,
   "metadata": {},
   "outputs": [
    {
     "name": "stdout",
     "output_type": "stream",
     "text": [
      "0     0.829167\n",
      "1   -10.379167\n",
      "2    -3.053846\n",
      "3     3.638180\n",
      "4     8.123851\n",
      "Name: Temperature, dtype: float64\n",
      "365\n"
     ]
    }
   ],
   "source": [
    "# Now let's compute the difference between the two arrays and print the mean difference\n",
    "# As you know when we resampled both data sets to daily average, we ended up with same number of records in both (365 days)\n",
    "difference = daily_temp_2011 - daily_temp_2010\n",
    "print(difference[0:5])\n",
    "print(len(difference))"
   ]
  },
  {
   "cell_type": "code",
   "execution_count": 29,
   "metadata": {},
   "outputs": [
    {
     "data": {
      "text/plain": [
       "1.3301831870056477"
      ]
     },
     "execution_count": 29,
     "metadata": {},
     "output_type": "execute_result"
    }
   ],
   "source": [
    "# Let's see what the mean differencce is\n",
    "difference.mean()"
   ]
  },
  {
   "cell_type": "markdown",
   "metadata": {},
   "source": [
    "## On average, how much hotter is it when the sun is shining? \n",
    "### In this exercise, we will compare temperatures on sunny days against temperatures on overcast days."
   ]
  },
  {
   "cell_type": "code",
   "execution_count": 30,
   "metadata": {},
   "outputs": [
    {
     "data": {
      "text/html": [
       "<div>\n",
       "<style scoped>\n",
       "    .dataframe tbody tr th:only-of-type {\n",
       "        vertical-align: middle;\n",
       "    }\n",
       "\n",
       "    .dataframe tbody tr th {\n",
       "        vertical-align: top;\n",
       "    }\n",
       "\n",
       "    .dataframe thead tr th {\n",
       "        text-align: left;\n",
       "    }\n",
       "</style>\n",
       "<table border=\"1\" class=\"dataframe\">\n",
       "  <thead>\n",
       "    <tr>\n",
       "      <th></th>\n",
       "      <th>Wban</th>\n",
       "      <th>date</th>\n",
       "      <th>Time</th>\n",
       "      <th>StationType</th>\n",
       "      <th>sky_condition</th>\n",
       "      <th>visibility</th>\n",
       "      <th>dry_bulb_faren</th>\n",
       "      <th>dry_bulb_cel</th>\n",
       "      <th>wet_bulb_faren</th>\n",
       "      <th>wet_bulb_cel</th>\n",
       "      <th>dew_point_faren</th>\n",
       "      <th>dew_point_cel</th>\n",
       "      <th>relative_humidity</th>\n",
       "      <th>wind_speed</th>\n",
       "      <th>wind_direction</th>\n",
       "      <th>station_pressure</th>\n",
       "      <th>sea_level_pressure</th>\n",
       "    </tr>\n",
       "    <tr>\n",
       "      <th></th>\n",
       "      <th>max</th>\n",
       "      <th>max</th>\n",
       "      <th>max</th>\n",
       "      <th>max</th>\n",
       "      <th>max</th>\n",
       "      <th>max</th>\n",
       "      <th>max</th>\n",
       "      <th>max</th>\n",
       "      <th>max</th>\n",
       "      <th>max</th>\n",
       "      <th>max</th>\n",
       "      <th>max</th>\n",
       "      <th>max</th>\n",
       "      <th>max</th>\n",
       "      <th>max</th>\n",
       "      <th>max</th>\n",
       "      <th>max</th>\n",
       "    </tr>\n",
       "  </thead>\n",
       "  <tbody>\n",
       "    <tr>\n",
       "      <th>2011-01-01</th>\n",
       "      <td>13904.0</td>\n",
       "      <td>20110101</td>\n",
       "      <td>2353</td>\n",
       "      <td>12.0</td>\n",
       "      <td>CLR</td>\n",
       "      <td>10.0</td>\n",
       "      <td>59.0</td>\n",
       "      <td>8.3</td>\n",
       "      <td>45</td>\n",
       "      <td>7.2</td>\n",
       "      <td>28.0</td>\n",
       "      <td>-6.1</td>\n",
       "      <td>53</td>\n",
       "      <td>16.0</td>\n",
       "      <td>360</td>\n",
       "      <td>29.78</td>\n",
       "      <td>30.33</td>\n",
       "    </tr>\n",
       "    <tr>\n",
       "      <th>2011-01-02</th>\n",
       "      <td>13904.0</td>\n",
       "      <td>20110102</td>\n",
       "      <td>2253</td>\n",
       "      <td>12.0</td>\n",
       "      <td>CLR</td>\n",
       "      <td>10.0</td>\n",
       "      <td>35.0</td>\n",
       "      <td>1.7</td>\n",
       "      <td>32</td>\n",
       "      <td>0.1</td>\n",
       "      <td>28.0</td>\n",
       "      <td>-7.2</td>\n",
       "      <td>76</td>\n",
       "      <td>8.0</td>\n",
       "      <td>360</td>\n",
       "      <td>29.82</td>\n",
       "      <td>30.38</td>\n",
       "    </tr>\n",
       "    <tr>\n",
       "      <th>2011-01-03</th>\n",
       "      <td>13904.0</td>\n",
       "      <td>20110103</td>\n",
       "      <td>0453</td>\n",
       "      <td>12.0</td>\n",
       "      <td>CLR</td>\n",
       "      <td>10.0</td>\n",
       "      <td>32.0</td>\n",
       "      <td>0.0</td>\n",
       "      <td>29</td>\n",
       "      <td>-1.9</td>\n",
       "      <td>26.0</td>\n",
       "      <td>-4.4</td>\n",
       "      <td>85</td>\n",
       "      <td>0.0</td>\n",
       "      <td>000</td>\n",
       "      <td>29.71</td>\n",
       "      <td>30.27</td>\n",
       "    </tr>\n",
       "    <tr>\n",
       "      <th>2011-01-04</th>\n",
       "      <td>NaN</td>\n",
       "      <td>NaN</td>\n",
       "      <td>NaN</td>\n",
       "      <td>NaN</td>\n",
       "      <td>NaN</td>\n",
       "      <td>NaN</td>\n",
       "      <td>NaN</td>\n",
       "      <td>NaN</td>\n",
       "      <td>NaN</td>\n",
       "      <td>NaN</td>\n",
       "      <td>NaN</td>\n",
       "      <td>NaN</td>\n",
       "      <td>NaN</td>\n",
       "      <td>NaN</td>\n",
       "      <td>NaN</td>\n",
       "      <td>NaN</td>\n",
       "      <td>NaN</td>\n",
       "    </tr>\n",
       "    <tr>\n",
       "      <th>2011-01-05</th>\n",
       "      <td>13904.0</td>\n",
       "      <td>20110105</td>\n",
       "      <td>2353</td>\n",
       "      <td>12.0</td>\n",
       "      <td>CLR</td>\n",
       "      <td>10.0</td>\n",
       "      <td>35.0</td>\n",
       "      <td>1.7</td>\n",
       "      <td>33</td>\n",
       "      <td>0.3</td>\n",
       "      <td>29.0</td>\n",
       "      <td>-1.7</td>\n",
       "      <td>79</td>\n",
       "      <td>0.0</td>\n",
       "      <td>000</td>\n",
       "      <td>29.54</td>\n",
       "      <td>30.08</td>\n",
       "    </tr>\n",
       "  </tbody>\n",
       "</table>\n",
       "</div>"
      ],
      "text/plain": [
       "               Wban      date  Time StationType sky_condition visibility  \\\n",
       "                max       max   max         max           max        max   \n",
       "2011-01-01  13904.0  20110101  2353        12.0           CLR       10.0   \n",
       "2011-01-02  13904.0  20110102  2253        12.0           CLR       10.0   \n",
       "2011-01-03  13904.0  20110103  0453        12.0           CLR       10.0   \n",
       "2011-01-04      NaN       NaN   NaN         NaN           NaN        NaN   \n",
       "2011-01-05  13904.0  20110105  2353        12.0           CLR       10.0   \n",
       "\n",
       "           dry_bulb_faren dry_bulb_cel wet_bulb_faren wet_bulb_cel  \\\n",
       "                      max          max            max          max   \n",
       "2011-01-01           59.0          8.3             45          7.2   \n",
       "2011-01-02           35.0          1.7             32          0.1   \n",
       "2011-01-03           32.0          0.0             29         -1.9   \n",
       "2011-01-04            NaN          NaN            NaN          NaN   \n",
       "2011-01-05           35.0          1.7             33          0.3   \n",
       "\n",
       "           dew_point_faren dew_point_cel relative_humidity wind_speed  \\\n",
       "                       max           max               max        max   \n",
       "2011-01-01            28.0          -6.1                53       16.0   \n",
       "2011-01-02            28.0          -7.2                76        8.0   \n",
       "2011-01-03            26.0          -4.4                85        0.0   \n",
       "2011-01-04             NaN           NaN               NaN        NaN   \n",
       "2011-01-05            29.0          -1.7                79        0.0   \n",
       "\n",
       "           wind_direction station_pressure sea_level_pressure  \n",
       "                      max              max                max  \n",
       "2011-01-01            360            29.78              30.33  \n",
       "2011-01-02            360            29.82              30.38  \n",
       "2011-01-03            000            29.71              30.27  \n",
       "2011-01-04            NaN              NaN                NaN  \n",
       "2011-01-05            000            29.54              30.08  "
      ]
     },
     "execution_count": 30,
     "metadata": {},
     "output_type": "execute_result"
    }
   ],
   "source": [
    "# Approach: First, filter for sunny & overcast days, and then compute the difference of the mean daily maximum temperatures \n",
    "# between each type of day.\n",
    "# The column 'sky_condition' provides information about whether the day was sunny ('CLR') or overcast ('OVC').\n",
    "\n",
    "# Sunny Filter: Using df_clean, when is sky_condition 'CLR'?\n",
    "is_sky_clear = df_clean['sky_condition']=='CLR' \n",
    "\n",
    "# Filter df_clean using is_sky_clear\n",
    "sunny = df_clean[is_sky_clear] # We can use df_clean.loc[is_sky_clear] as well\n",
    "\n",
    "# Resample sunny by day then calculate the max - daily maximum temperatures\n",
    "# Note: I had to use agg method specfying the aggregattion. Directly applying max() method results in error in Jupyer\n",
    "# but not in Python shell\n",
    "sunny_daily_max = sunny.resample('D').agg(['max'])\n",
    "\n",
    "# See the result\n",
    "sunny_daily_max.head()"
   ]
  },
  {
   "cell_type": "code",
   "execution_count": 31,
   "metadata": {},
   "outputs": [
    {
     "data": {
      "text/html": [
       "<div>\n",
       "<style scoped>\n",
       "    .dataframe tbody tr th:only-of-type {\n",
       "        vertical-align: middle;\n",
       "    }\n",
       "\n",
       "    .dataframe tbody tr th {\n",
       "        vertical-align: top;\n",
       "    }\n",
       "\n",
       "    .dataframe thead tr th {\n",
       "        text-align: left;\n",
       "    }\n",
       "</style>\n",
       "<table border=\"1\" class=\"dataframe\">\n",
       "  <thead>\n",
       "    <tr>\n",
       "      <th></th>\n",
       "      <th>Wban</th>\n",
       "      <th>date</th>\n",
       "      <th>Time</th>\n",
       "      <th>StationType</th>\n",
       "      <th>sky_condition</th>\n",
       "      <th>visibility</th>\n",
       "      <th>dry_bulb_faren</th>\n",
       "      <th>dry_bulb_cel</th>\n",
       "      <th>wet_bulb_faren</th>\n",
       "      <th>wet_bulb_cel</th>\n",
       "      <th>dew_point_faren</th>\n",
       "      <th>dew_point_cel</th>\n",
       "      <th>relative_humidity</th>\n",
       "      <th>wind_speed</th>\n",
       "      <th>wind_direction</th>\n",
       "      <th>station_pressure</th>\n",
       "      <th>sea_level_pressure</th>\n",
       "    </tr>\n",
       "    <tr>\n",
       "      <th></th>\n",
       "      <th>max</th>\n",
       "      <th>max</th>\n",
       "      <th>max</th>\n",
       "      <th>max</th>\n",
       "      <th>max</th>\n",
       "      <th>max</th>\n",
       "      <th>max</th>\n",
       "      <th>max</th>\n",
       "      <th>max</th>\n",
       "      <th>max</th>\n",
       "      <th>max</th>\n",
       "      <th>max</th>\n",
       "      <th>max</th>\n",
       "      <th>max</th>\n",
       "      <th>max</th>\n",
       "      <th>max</th>\n",
       "      <th>max</th>\n",
       "    </tr>\n",
       "  </thead>\n",
       "  <tbody>\n",
       "    <tr>\n",
       "      <th>2011-01-01</th>\n",
       "      <td>13904.0</td>\n",
       "      <td>20110101</td>\n",
       "      <td>0353</td>\n",
       "      <td>12.0</td>\n",
       "      <td>OVC065</td>\n",
       "      <td>10.0</td>\n",
       "      <td>51.0</td>\n",
       "      <td>10.6</td>\n",
       "      <td>38</td>\n",
       "      <td>3.1</td>\n",
       "      <td>17.0</td>\n",
       "      <td>-9.4</td>\n",
       "      <td>27</td>\n",
       "      <td>15.0</td>\n",
       "      <td>360</td>\n",
       "      <td>29.51</td>\n",
       "      <td>30.03</td>\n",
       "    </tr>\n",
       "    <tr>\n",
       "      <th>2011-01-02</th>\n",
       "      <td>NaN</td>\n",
       "      <td>NaN</td>\n",
       "      <td>NaN</td>\n",
       "      <td>NaN</td>\n",
       "      <td>NaN</td>\n",
       "      <td>NaN</td>\n",
       "      <td>NaN</td>\n",
       "      <td>NaN</td>\n",
       "      <td>NaN</td>\n",
       "      <td>NaN</td>\n",
       "      <td>NaN</td>\n",
       "      <td>NaN</td>\n",
       "      <td>NaN</td>\n",
       "      <td>NaN</td>\n",
       "      <td>NaN</td>\n",
       "      <td>NaN</td>\n",
       "      <td>NaN</td>\n",
       "    </tr>\n",
       "    <tr>\n",
       "      <th>2011-01-03</th>\n",
       "      <td>13904.0</td>\n",
       "      <td>20110103</td>\n",
       "      <td>2353</td>\n",
       "      <td>12.0</td>\n",
       "      <td>SCT042 OVC055</td>\n",
       "      <td>10.0</td>\n",
       "      <td>58.0</td>\n",
       "      <td>9.4</td>\n",
       "      <td>49</td>\n",
       "      <td>9.7</td>\n",
       "      <td>45.0</td>\n",
       "      <td>7.0</td>\n",
       "      <td>79</td>\n",
       "      <td>10.0</td>\n",
       "      <td>200</td>\n",
       "      <td>29.70</td>\n",
       "      <td>M</td>\n",
       "    </tr>\n",
       "    <tr>\n",
       "      <th>2011-01-04</th>\n",
       "      <td>13904.0</td>\n",
       "      <td>20110104</td>\n",
       "      <td>2353</td>\n",
       "      <td>12.0</td>\n",
       "      <td>SCT010 OVC016</td>\n",
       "      <td>10.0</td>\n",
       "      <td>57.0</td>\n",
       "      <td>8.9</td>\n",
       "      <td>56</td>\n",
       "      <td>9.4</td>\n",
       "      <td>56.0</td>\n",
       "      <td>8.9</td>\n",
       "      <td>100</td>\n",
       "      <td>8.0</td>\n",
       "      <td>VR</td>\n",
       "      <td>29.59</td>\n",
       "      <td>M</td>\n",
       "    </tr>\n",
       "    <tr>\n",
       "      <th>2011-01-05</th>\n",
       "      <td>13904.0</td>\n",
       "      <td>20110105</td>\n",
       "      <td>0653</td>\n",
       "      <td>12.0</td>\n",
       "      <td>SCT006 OVC011</td>\n",
       "      <td>10.0</td>\n",
       "      <td>57.0</td>\n",
       "      <td>14.0</td>\n",
       "      <td>56</td>\n",
       "      <td>13.5</td>\n",
       "      <td>56.0</td>\n",
       "      <td>13.3</td>\n",
       "      <td>96</td>\n",
       "      <td>3.0</td>\n",
       "      <td>250</td>\n",
       "      <td>29.48</td>\n",
       "      <td>M</td>\n",
       "    </tr>\n",
       "  </tbody>\n",
       "</table>\n",
       "</div>"
      ],
      "text/plain": [
       "               Wban      date  Time StationType  sky_condition visibility  \\\n",
       "                max       max   max         max            max        max   \n",
       "2011-01-01  13904.0  20110101  0353        12.0         OVC065       10.0   \n",
       "2011-01-02      NaN       NaN   NaN         NaN            NaN        NaN   \n",
       "2011-01-03  13904.0  20110103  2353        12.0  SCT042 OVC055       10.0   \n",
       "2011-01-04  13904.0  20110104  2353        12.0  SCT010 OVC016       10.0   \n",
       "2011-01-05  13904.0  20110105  0653        12.0  SCT006 OVC011       10.0   \n",
       "\n",
       "           dry_bulb_faren dry_bulb_cel wet_bulb_faren wet_bulb_cel  \\\n",
       "                      max          max            max          max   \n",
       "2011-01-01           51.0         10.6             38          3.1   \n",
       "2011-01-02            NaN          NaN            NaN          NaN   \n",
       "2011-01-03           58.0          9.4             49          9.7   \n",
       "2011-01-04           57.0          8.9             56          9.4   \n",
       "2011-01-05           57.0         14.0             56         13.5   \n",
       "\n",
       "           dew_point_faren dew_point_cel relative_humidity wind_speed  \\\n",
       "                       max           max               max        max   \n",
       "2011-01-01            17.0          -9.4                27       15.0   \n",
       "2011-01-02             NaN           NaN               NaN        NaN   \n",
       "2011-01-03            45.0           7.0                79       10.0   \n",
       "2011-01-04            56.0           8.9               100        8.0   \n",
       "2011-01-05            56.0          13.3                96        3.0   \n",
       "\n",
       "           wind_direction station_pressure sea_level_pressure  \n",
       "                      max              max                max  \n",
       "2011-01-01            360            29.51              30.03  \n",
       "2011-01-02            NaN              NaN                NaN  \n",
       "2011-01-03            200            29.70                  M  \n",
       "2011-01-04            VR             29.59                  M  \n",
       "2011-01-05            250            29.48                  M  "
      ]
     },
     "execution_count": 31,
     "metadata": {},
     "output_type": "execute_result"
    }
   ],
   "source": [
    "# Let's do the same thing to find out the daily max temps for overcast days\n",
    "\n",
    "# Using df_clean, when does sky_condition contain 'OVC'? - this time using str.contains method for variety\n",
    "is_sky_overcast = df_clean['sky_condition'].str.contains('OVC')\n",
    "\n",
    "# Filter df_clean using is_sky_overcast\n",
    "overcast = df_clean[is_sky_overcast] # We can use df_clean.loc[is_sky_overcast] as well\n",
    "\n",
    "# Resample overcast by day then calculate the max\n",
    "overcast_daily_max = overcast.resample('D').agg(['max'])\n",
    "\n",
    "# See the result\n",
    "overcast_daily_max.head()"
   ]
  },
  {
   "cell_type": "code",
   "execution_count": 32,
   "metadata": {},
   "outputs": [
    {
     "name": "stdout",
     "output_type": "stream",
     "text": [
      "Wban             max    0.000000\n",
      "StationType      max    0.000000\n",
      "visibility       max    0.174359\n",
      "dry_bulb_faren   max    6.504304\n",
      "dew_point_faren  max   -4.339286\n",
      "wind_speed       max   -3.246062\n",
      "dtype: float64\n"
     ]
    }
   ],
   "source": [
    "# Finally, let's calculate the average daily max temperatures for both sky conditions:\n",
    "# Calculate the mean of sunny_daily_max\n",
    "sunny_daily_max_mean = sunny_daily_max.mean()\n",
    "\n",
    "# Calculate the mean of overcast_daily_max\n",
    "overcast_daily_max_mean = overcast_daily_max.mean()\n",
    "\n",
    "# Print the difference (sunny minus overcast)\n",
    "difference = sunny_daily_max_mean - overcast_daily_max_mean\n",
    "print(difference)\n",
    "\n",
    "# Result: The average daily maximum dry bulb temperature was 6.5 degrees Fahrenheit higher \n",
    "# on sunny days compared to overcast days."
   ]
  },
  {
   "cell_type": "markdown",
   "metadata": {},
   "source": [
    "## Weekly average temperature and visibility\n",
    "### Is there a correlation between temperature and visibility?"
   ]
  },
  {
   "cell_type": "code",
   "execution_count": 35,
   "metadata": {},
   "outputs": [
    {
     "data": {
      "image/png": "[encoded data removed]",
      "text/plain": [
       "<Figure size 432x288 with 2 Axes>"
      ]
     },
     "metadata": {
      "needs_background": "light"
     },
     "output_type": "display_data"
    }
   ],
   "source": [
    "# Let's do some visual EDA for this exercise and compute the Pearson correlation coefficient using .corr() method for\n",
    "# temperature and visibility columns in df_clean\n",
    "# Pearson's r ranges from -1 (indicating total negative linear correlation) to 1 (indicating total positive linear correlation)\n",
    "\n",
    "# Select the visibility and dry_bulb_faren columns and resample them: weekly_mean\n",
    "weekly_mean = df_clean[['visibility','dry_bulb_faren']].resample('W').mean()\n",
    "\n",
    "# Plot weekly_mean with subplots=True\n",
    "weekly_mean.plot(subplots=True)\n",
    "plt.show()"
   ]
  },
  {
   "cell_type": "code",
   "execution_count": 34,
   "metadata": {},
   "outputs": [
    {
     "name": "stdout",
     "output_type": "stream",
     "text": [
      "                visibility  dry_bulb_faren\n",
      "visibility        1.000000        0.490328\n",
      "dry_bulb_faren    0.490328        1.000000\n"
     ]
    }
   ],
   "source": [
    "# Print the output of weekly_mean.corr() - not much of a correlation between these features\n",
    "print(weekly_mean.corr())"
   ]
  },
  {
   "cell_type": "markdown",
   "metadata": {},
   "source": [
    "### Daily hours of clear sky"
   ]
  },
  {
   "cell_type": "code",
   "execution_count": null,
   "metadata": {},
   "outputs": [],
   "source": [
    "# Extract the number of sunny hours in a day and the number of total hours. \n",
    "# Then, you can divide the number of sunny hours by the number of total hours, and generate a box plot of the \n",
    "# resulting fraction."
   ]
  },
  {
   "cell_type": "code",
   "execution_count": 51,
   "metadata": {},
   "outputs": [],
   "source": [
    "# Using df_clean, create the filtered condition: sky_condition == 'CLR'. This cretes an Series object of boolean results.\n",
    "is_sky_clear = df_clean['sky_condition']=='CLR' \n",
    "\n",
    "# Resample is_sky_clear Series by day\n",
    "resampled = is_sky_clear.resample('D')\n",
    "\n",
    "# Calculate the number of sunny hours per day - This sums of the occurances of True (sunny hours) in a given day\n",
    "sunny_hours = resampled.sum()\n",
    "\n",
    "# Calculate the number of measured hours per day - This counts the total number of hours in a given day\n",
    "total_hours = resampled.count()"
   ]
  },
  {
   "cell_type": "code",
   "execution_count": 52,
   "metadata": {},
   "outputs": [
    {
     "data": {
      "image/png": "[encoded data removed]",
      "text/plain": [
       "<Figure size 432x288 with 1 Axes>"
      ]
     },
     "metadata": {
      "needs_background": "light"
     },
     "output_type": "display_data"
    }
   ],
   "source": [
    "# Lets' see the percentage of sunny hours in a given day and plot it as a boxplot\n",
    "sunny_perc = sunny_hours / total_hours\n",
    "\n",
    "# Make a box plot of sunny_perc\n",
    "sunny_perc.plot(kind='box')\n",
    "plt.show()\n",
    "\n",
    "# Result: The weather in the dataset is typically sunny less than 40% of the time."
   ]
  },
  {
   "cell_type": "markdown",
   "metadata": {},
   "source": [
    "### Maximum temperature and dew point of each month"
   ]
  },
  {
   "cell_type": "code",
   "execution_count": 53,
   "metadata": {},
   "outputs": [],
   "source": [
    "# A dew point above 65 is considered uncomfortable while a temperature above 90 is also considered uncomfortable.\n",
    "\n",
    "# Select the dew_point_faren and dry_bulb_faren columns and resample them: monthly_max\n",
    "monthly_max = df_clean[['dew_point_faren','dry_bulb_faren']].resample('M').max()"
   ]
  },
  {
   "cell_type": "code",
   "execution_count": 54,
   "metadata": {},
   "outputs": [
    {
     "data": {
      "image/png": "[encoded data removed]",
      "text/plain": [
       "<Figure size 432x288 with 2 Axes>"
      ]
     },
     "metadata": {
      "needs_background": "light"
     },
     "output_type": "display_data"
    }
   ],
   "source": [
    "# Generate a histogram with bins=8, alpha=0.5, subplots=True\n",
    "monthly_max.plot(kind='hist',bins=8, alpha=0.5, subplots=True)\n",
    "\n",
    "# Show the plot\n",
    "plt.show()\n",
    "\n",
    "# Result: It looks like the maximum dew point is above 65 every month!"
   ]
  },
  {
   "cell_type": "markdown",
   "metadata": {},
   "source": [
    "### Compare the maximum temperature in August 2011 against that of the August 2010 climate normals"
   ]
  },
  {
   "cell_type": "code",
   "execution_count": null,
   "metadata": {},
   "outputs": [],
   "source": [
    "# We will use a CDF plot to determine the probability of the 2011 daily maximum temperature in August being \n",
    "# above the 2010 climate normal value"
   ]
  },
  {
   "cell_type": "code",
   "execution_count": 59,
   "metadata": {},
   "outputs": [
    {
     "name": "stdout",
     "output_type": "stream",
     "text": [
      "95.3\n"
     ]
    },
    {
     "data": {
      "image/png": "[encoded data removed]",
      "text/plain": [
       "<Figure size 432x288 with 1 Axes>"
      ]
     },
     "metadata": {
      "needs_background": "light"
     },
     "output_type": "display_data"
    }
   ],
   "source": [
    "# Extract the maximum temperature in August 2010 from df_clean: august_max\n",
    "august_max = df1_clean.loc['2010-Aug','Temperature'].max()\n",
    "print(august_max) #95.3\n",
    "\n",
    "# Resample August 2011 temps in df_clean by day & aggregate the max value: august_2011\n",
    "august_2011 = df_clean.loc['2011-Aug','dry_bulb_faren'].resample('D').agg(['max'])\n",
    "\n",
    "# Filter for days in august_2011 where the value exceeds august_max: august_2011_high\n",
    "august_2011_high = august_2011[august_2011 > august_max]\n",
    "\n",
    "# Construct a CDF of august_2011_high\n",
    "august_2011_high.plot(kind='hist', bins=25, density=True, cumulative=True)\n",
    "\n",
    "# Display the plot\n",
    "plt.show()\n",
    "\n",
    "# Result: There is about a 50% probability of the 2011 daily maximum temperature in August being 5 degrees \n",
    "# above the 2010 climate normal value.\n"
   ]
  },
  {
   "cell_type": "code",
   "execution_count": null,
   "metadata": {},
   "outputs": [],
   "source": []
  }
 ],
 "metadata": {
  "kernelspec": {
   "display_name": "Python 3",
   "language": "python",
   "name": "python3"
  },
  "language_info": {
   "codemirror_mode": {
    "name": "ipython",
    "version": 3
   },
   "file_extension": ".py",
   "mimetype": "text/x-python",
   "name": "python",
   "nbconvert_exporter": "python",
   "pygments_lexer": "ipython3",
   "version": "3.7.6"
  }
 },
 "nbformat": 4,
 "nbformat_minor": 4
}
